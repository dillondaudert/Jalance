{
 "cells": [
  {
   "cell_type": "markdown",
   "metadata": {},
   "source": [
    "# Implementation Draft Details"
   ]
  },
  {
   "cell_type": "markdown",
   "metadata": {},
   "source": [
    "## Load Balancing Algorithms"
   ]
  },
  {
   "cell_type": "markdown",
   "metadata": {},
   "source": [
    "### Random Polling (RP)\n",
    "- **Controller**: \n",
    "  - Distributes work\n",
    "  - handles results/completed work, and \n",
    "  - receives status update messages from workers\n",
    "  - waits for workers to terminate.\n",
    "- **Workers**: \n",
    "  - Perform work\n",
    "  - Whenever work runs out, request work from a random worker\n",
    "  - Send status and results messages to controller"
   ]
  },
  {
   "cell_type": "markdown",
   "metadata": {},
   "source": [
    "### Scheduler Based (SB)\n",
    "- **Controller**: Acts as a scheduler. Needs to:\n",
    "  - Keep a list of idle and active workers\n",
    "  - Receive status updates from workers\n",
    "  - Match idle workers with active workers\n",
    "- **Worker**: Performs computation. Needs to:\n",
    "  - Send messages to and from controller\n",
    "  - Request work from other worker\n",
    "  - Perform computation\n",
    "  - Send work to a requesting worker"
   ]
  },
  {
   "cell_type": "markdown",
   "metadata": {},
   "source": [
    "#### Design Details\n",
    "Legend:\n",
    "- Rounded rectangles indicate synchronized blocks\n",
    "- Dotted rounded rectangles indicate remote processes (launched via `@spawnat`)\n",
    "- Rectangles with two verticle lines on the edges indicate a separate task launched on the same process"
   ]
  },
  {
   "cell_type": "markdown",
   "metadata": {},
   "source": [
    "**Controller Process**"
   ]
  },
  {
   "cell_type": "markdown",
   "metadata": {},
   "source": [
    "![SB Controller](./img/Controller_SB.png \"Scheduler-Based Controller\")"
   ]
  },
  {
   "cell_type": "markdown",
   "metadata": {},
   "source": [
    "**Worker Process**     "
   ]
  },
  {
   "cell_type": "code",
   "execution_count": null,
   "metadata": {},
   "outputs": [],
   "source": []
  }
 ],
 "metadata": {
  "kernelspec": {
   "display_name": "Julia 0.6.2",
   "language": "julia",
   "name": "julia-0.6"
  },
  "language_info": {
   "file_extension": ".jl",
   "mimetype": "application/julia",
   "name": "julia",
   "version": "0.6.2"
  }
 },
 "nbformat": 4,
 "nbformat_minor": 2
}
