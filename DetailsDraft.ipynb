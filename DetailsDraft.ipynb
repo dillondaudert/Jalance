{
 "cells": [
  {
   "cell_type": "markdown",
   "metadata": {},
   "source": [
    "# Implementation Draft Details"
   ]
  },
  {
   "cell_type": "markdown",
   "metadata": {},
   "source": [
    "### Notes:\n",
    "There's some choice in how interprocess communication can be implemented (e.g. remote calls vs. channels). Given the choice between multiple options, my strategy will be to choose the simplest one, and note my choice here.\n",
    "- **Work Messages**: Remote Calls / Futures vs. Channels. \n",
    "  - I'm not sure of the impact on performance when using a single channel for multiple processes that are possibly on different machines, so I will keep this as close to message passing by using **remote calls**.\n",
    "  - **On second thought**, I'm not sure if this is the best way to pass work between processes since the communication paradigm isn't message passing but remote calls. The \"messages\" aren't just discrete units of data, they are more like tasks to be executed. Need to think of a natural way to incorporate the task scheduler on the workers, or potentially use channels for each worker (inefficient? Again, unsure of the particulars in e.g. cluster environments).\n",
    "  - If I want this to resemble *message passing*, then channels seem like the way to go. There are a number of different ways to implement this overall scheme, I think, (and the documentation is frustratingly dispersed) so I need to figure out which way would be best.\n",
    "\n",
    "\n",
    "\n",
    "1. **Idea**: Each process (controller and workers) may consist of multiple *tasks*, but they will be based around *RemoteChannels*. Each worker will have a work channel, which several tasks will use to:\n",
    "  1. Take work and pass to compute task (same process)\n",
    "  2. Signal the controller if work channel is empty or full, and if computation is happening\n",
    "  3. Take work (remote process) and add to local channel (same process)\n",
    "\n",
    "The main coordination construct is these remote channels. Assuming that take! and put! are atomic (I think they are), this should work.\n",
    "\n",
    "**Main Questions/Comments**:\n",
    "- The worker tasks will be telling the controller (via remotecall, not channels) that they are nonidle, and this remote call should return an idle node if there is one. *Considerations surrounding the global / local references to the idle list, and how the remotecall task accesses those*.\n",
    "- If there is an idle node, then (since each worker has references to the other workers' work RemoteChannels) take! from local channel and put! in remote channel. *Are there sync concerns here...?*. Also, a worker status is based solely on the empty/nonempty status of the Work Channel. *Is this the best way to do this? Or does it matter if we **just** pulled an item of work off the queue, even tho the queue is empty?*\n",
    "- If there is no idle node, then since the computation is performed in a different (local) task, wait for that task to complete, remove another item from work channel, then reassess if idle. This means that nonidle signals won't be sent to the controller more than once per completed work item.\n",
    "- Worker tasks place the results fo their work into the Results RemoteChannel (passed to all worker processes)\n",
    "- Controller waits until all worker processes are \"idle\" in the idle status list. This means that at the beginning, the initial worker process must be marked as nonidle. I also need to *make sure* that there are no corner cases where all processes may accidentally be marked as idle even though there is still work left.\n",
    "\n",
    "For other load balancing methods, it is just a question of how the LB step changes. If the controller is sharing its idle status list, then there will be local copies (that will need to be synced). If the workers choose randomly, then there isn't much communication. If ..."
   ]
  },
  {
   "cell_type": "markdown",
   "metadata": {},
   "source": [
    "## Strategies"
   ]
  },
  {
   "cell_type": "markdown",
   "metadata": {},
   "source": [
    "### Scheduler Based (SB)\n",
    "- **Controller**: Acts as a scheduler. Needs to:\n",
    "  - Keep a list of idle and active workers\n",
    "  - Receive status updates from workers\n",
    "  - Match idle workers with active workers\n",
    "- **Worker**: Performs computation. Needs to:\n",
    "  - Send messages to and from controller\n",
    "  - Request work from other worker\n",
    "  - Perform computation\n",
    "  - Send work to a requesting worker"
   ]
  },
  {
   "cell_type": "markdown",
   "metadata": {},
   "source": [
    "### State Machines"
   ]
  },
  {
   "cell_type": "markdown",
   "metadata": {},
   "source": [
    "**Controller Process**: \n",
    "- Create RemoteChannels\n",
    "- Create workers; pass RemoteChannel references to each worker\n",
    "- Initialize idle status list (*all controller tasks have access*)\n",
    "- Pass all initial work to first worker\n",
    "- \n",
    "- Wait for completion (what is signal?)"
   ]
  },
  {
   "cell_type": "markdown",
   "metadata": {},
   "source": [
    "**Worker Process**: \n",
    "- While Not Finished:\n",
    "  - If Working:\n",
    "    - Mark as nonidle on controller, wait\n",
    "    - (`tid = remotecall_fetch(nonidle, controller_id, ...)`)\n",
    "    - If Has Extra Work:\n",
    "      - Send work to idle node\n",
    "      - (`remotecall(send_work, tid, work, ...)`)\n",
    "    - Else:\n",
    "      - Send \"no work avail\" to node\n",
    "      - (`remotecall(send_work, tid, nowork, ...)`)\n",
    "    - Do Work\n",
    "  - Else:\n",
    "    - Block / wait...?\n",
    "    "
   ]
  },
  {
   "cell_type": "markdown",
   "metadata": {},
   "source": [
    "## Example From Docs"
   ]
  },
  {
   "cell_type": "code",
   "execution_count": 3,
   "metadata": {},
   "outputs": [
    {
     "data": {
      "text/plain": [
       "pmap (generic function with 1 method)"
      ]
     },
     "execution_count": 3,
     "metadata": {},
     "output_type": "execute_result"
    }
   ],
   "source": [
    "function pmap(f, lst)\n",
    "    np = nprocs()\n",
    "    n = length(lst)\n",
    "    results = Vector{Any}(n)\n",
    "    i = 1\n",
    "    # function to produce the next work item from the queue\n",
    "    # in this case it's just an index\n",
    "    nextidx() = (idx=i; i+=1; idx)\n",
    "    @sync begin\n",
    "        for p = 1:np\n",
    "            if p != myid() || np == 1\n",
    "                # if not the controller process (or controller is worker)\n",
    "                @async begin\n",
    "                    # create a local task that feeds work to other processes\n",
    "                    while true\n",
    "                        # local tasks are scheduled cooperatively, not preemptively,\n",
    "                        # so they can be coordinated via nextidx()\n",
    "                        idx = nextidx()\n",
    "                        if idx > n\n",
    "                            break\n",
    "                        end\n",
    "                        # perform computation on process p\n",
    "                        # Note that context switching (between tasks) only occurs\n",
    "                        # at well-defined points, as in this call to remotecall_fetch\n",
    "                        results[idx] = remotecall_fetch(f, p, lst[idx])\n",
    "                    end\n",
    "                end\n",
    "            end\n",
    "        end\n",
    "    end\n",
    "    results\n",
    "end"
   ]
  },
  {
   "cell_type": "markdown",
   "metadata": {},
   "source": [
    "## Tasks"
   ]
  },
  {
   "cell_type": "markdown",
   "metadata": {},
   "source": [
    "- Switching tasks does not use any space\n",
    "- Switch among tasks can occur in any order\n"
   ]
  },
  {
   "cell_type": "markdown",
   "metadata": {},
   "source": [
    "## Components"
   ]
  },
  {
   "cell_type": "code",
   "execution_count": null,
   "metadata": {},
   "outputs": [],
   "source": []
  }
 ],
 "metadata": {
  "kernelspec": {
   "display_name": "Julia 0.6.1",
   "language": "julia",
   "name": "julia-0.6"
  },
  "language_info": {
   "file_extension": ".jl",
   "mimetype": "application/julia",
   "name": "julia",
   "version": "0.6.1"
  }
 },
 "nbformat": 4,
 "nbformat_minor": 2
}
