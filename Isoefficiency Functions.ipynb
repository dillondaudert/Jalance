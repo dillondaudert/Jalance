{
 "cells": [
  {
   "cell_type": "code",
   "execution_count": null,
   "metadata": {},
   "outputs": [],
   "source": [
    "using Plots\n",
    "plotlyjs()\n",
    "using Interact\n",
    "using Reactive"
   ]
  },
  {
   "cell_type": "code",
   "execution_count": null,
   "metadata": {},
   "outputs": [],
   "source": [
    "# Variables\n",
    "W = slider(1:1:101, label=\"Num Units\")\n",
    "P = slider(1:16, label=\"Num Procs\")\n",
    "# instead of Ucalc, Ugamma\n",
    "Uᵧ = 1\n",
    "\n",
    "# total time spent by all processors on useful computation\n",
    "Tᵧ = map(x->x, signal(W))\n",
    "\n",
    "# time spent by processors in communication overhead\n",
    "rate = slider(0:.1:.9, label=\"k: Tₒ = Wᵏ*(P-1)\")\n",
    "Tₒ = map((x, y, z)->(x^y)*(z-1), signal(Tᵧ), signal(rate), signal(P))\n",
    "\n",
    "# total execution time spent by all processors\n",
    "Tₚ = map((x, y, z)->(x + y)/z, signal(Tᵧ), signal(Tₒ), signal(P))\n",
    "\n",
    "# effective speedup\n",
    "S = map((x, y)->x/y, signal(Tᵧ), signal(Tₚ))\n",
    "\n",
    "# efficiency\n",
    "E = map((x, y)->x/y, signal(S), signal(P)) # = Tᵧ / (Tₚ * P)\n",
    "\n",
    "map(display, [W, P, rate, \"Comm Time\", Tₒ, \"Compute Time\", Tᵧ, \"Wall Time\", Tₚ, \"Speedup\", S, \"Efficiency\", E]);"
   ]
  },
  {
   "cell_type": "code",
   "execution_count": null,
   "metadata": {},
   "outputs": [],
   "source": [
    "# plot E vs. P vs. W\n",
    "r = slider(0:0.05:1, label=\"r\")\n",
    "W, P = 1:10:10000, [2^i for i = 0:5]\n",
    "\n",
    "\n",
    "Eff(work, procs) = Eff(work, procs, r)\n",
    "Eff(work, procs, rate) = work / (work + (procs-1)work^rate)\n",
    "\n",
    "@manipulate for r = 0:0.05:1\n",
    "    default(size=(600,600), fc=:heat)\n",
    "    z = Surface((x, y)->Eff(x, y, r), W, P)\n",
    "    surface(W, P, z, linealpha=0.3)\n",
    "end"
   ]
  }
 ],
 "metadata": {
  "kernelspec": {
   "display_name": "Julia 0.6.1",
   "language": "julia",
   "name": "julia-0.6"
  },
  "language_info": {
   "file_extension": ".jl",
   "mimetype": "application/julia",
   "name": "julia",
   "version": "0.6.1"
  }
 },
 "nbformat": 4,
 "nbformat_minor": 2
}
